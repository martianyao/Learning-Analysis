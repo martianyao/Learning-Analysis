{
 "cells": [
  {
   "cell_type": "code",
   "execution_count": 9,
   "id": "dd043f66",
   "metadata": {},
   "outputs": [
    {
     "name": "stdout",
     "output_type": "stream",
     "text": [
      "Initialized empty Git repository in /Users/yaochen/Desktop/AI Application /github project/Learning-Analysis/igcse-assessment-tool/.git/\n"
     ]
    },
    {
     "data": {
      "text/plain": [
       "0"
      ]
     },
     "execution_count": 9,
     "metadata": {},
     "output_type": "execute_result"
    }
   ],
   "source": [
    "from mimetypes import init\n",
    "from os import mkdir\n",
    "from re import IGNORECASE\n",
    "\n",
    "\n",
    "# Create a directory and initialize a git repository using shell commands\n",
    "import os\n",
    "\n",
    "os.makedirs(\"igcse-assessment-tool\", exist_ok=True)\n",
    "os.system(\"cd igcse-assessment-tool && git init\")\n"
   ]
  }
 ],
 "metadata": {
  "kernelspec": {
   "display_name": ".venv",
   "language": "python",
   "name": "python3"
  },
  "language_info": {
   "codemirror_mode": {
    "name": "ipython",
    "version": 3
   },
   "file_extension": ".py",
   "mimetype": "text/x-python",
   "name": "python",
   "nbconvert_exporter": "python",
   "pygments_lexer": "ipython3",
   "version": "3.13.3"
  }
 },
 "nbformat": 4,
 "nbformat_minor": 5
}
